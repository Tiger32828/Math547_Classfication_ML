{
  "cells": [
    {
      "cell_type": "code",
      "execution_count": null,
      "metadata": {
        "id": "f609bdf5"
      },
      "outputs": [],
      "source": [
        "# 547 Final Project\n",
        "import numpy as np\n",
        "import pandas as pd\n",
        "import matplotlib.pyplot as plt\n",
        "import matplotlib as mlt\n",
        "import seaborn as sns"
      ],
      "id": "f609bdf5"
    },
    {
      "cell_type": "code",
      "execution_count": null,
      "metadata": {
        "id": "4b5bdca1"
      },
      "outputs": [],
      "source": [
        "import os"
      ],
      "id": "4b5bdca1"
    },
    {
      "cell_type": "code",
      "execution_count": null,
      "metadata": {
        "colab": {
          "base_uri": "https://localhost:8080/",
          "height": 508
        },
        "id": "90565e19",
        "outputId": "5ab2d6d8-2881-4365-969e-5302e4818cd5"
      },
      "outputs": [
        {
          "data": {
            "text/html": [
              "\n",
              "  <div id=\"df-88503b49-4256-4443-ba7d-89501a0c3c60\">\n",
              "    <div class=\"colab-df-container\">\n",
              "      <div>\n",
              "<style scoped>\n",
              "    .dataframe tbody tr th:only-of-type {\n",
              "        vertical-align: middle;\n",
              "    }\n",
              "\n",
              "    .dataframe tbody tr th {\n",
              "        vertical-align: top;\n",
              "    }\n",
              "\n",
              "    .dataframe thead th {\n",
              "        text-align: right;\n",
              "    }\n",
              "</style>\n",
              "<table border=\"1\" class=\"dataframe\">\n",
              "  <thead>\n",
              "    <tr style=\"text-align: right;\">\n",
              "      <th></th>\n",
              "      <th>class</th>\n",
              "      <th>cap-diameter</th>\n",
              "      <th>cap-shape</th>\n",
              "      <th>cap-surface</th>\n",
              "      <th>cap-color</th>\n",
              "      <th>does-bruise-or-bleed</th>\n",
              "      <th>gill-attachment</th>\n",
              "      <th>gill-spacing</th>\n",
              "      <th>gill-color</th>\n",
              "      <th>stem-height</th>\n",
              "      <th>...</th>\n",
              "      <th>stem-root</th>\n",
              "      <th>stem-surface</th>\n",
              "      <th>stem-color</th>\n",
              "      <th>veil-type</th>\n",
              "      <th>veil-color</th>\n",
              "      <th>has-ring</th>\n",
              "      <th>ring-type</th>\n",
              "      <th>spore-print-color</th>\n",
              "      <th>habitat</th>\n",
              "      <th>season</th>\n",
              "    </tr>\n",
              "  </thead>\n",
              "  <tbody>\n",
              "    <tr>\n",
              "      <th>12448</th>\n",
              "      <td>e</td>\n",
              "      <td>1.30</td>\n",
              "      <td>x</td>\n",
              "      <td>t</td>\n",
              "      <td>y</td>\n",
              "      <td>f</td>\n",
              "      <td>d</td>\n",
              "      <td>NaN</td>\n",
              "      <td>w</td>\n",
              "      <td>5.65</td>\n",
              "      <td>...</td>\n",
              "      <td>NaN</td>\n",
              "      <td>t</td>\n",
              "      <td>y</td>\n",
              "      <td>NaN</td>\n",
              "      <td>NaN</td>\n",
              "      <td>f</td>\n",
              "      <td>f</td>\n",
              "      <td>NaN</td>\n",
              "      <td>g</td>\n",
              "      <td>a</td>\n",
              "    </tr>\n",
              "    <tr>\n",
              "      <th>53678</th>\n",
              "      <td>p</td>\n",
              "      <td>19.45</td>\n",
              "      <td>s</td>\n",
              "      <td>s</td>\n",
              "      <td>n</td>\n",
              "      <td>f</td>\n",
              "      <td>d</td>\n",
              "      <td>c</td>\n",
              "      <td>y</td>\n",
              "      <td>7.73</td>\n",
              "      <td>...</td>\n",
              "      <td>NaN</td>\n",
              "      <td>k</td>\n",
              "      <td>n</td>\n",
              "      <td>NaN</td>\n",
              "      <td>NaN</td>\n",
              "      <td>f</td>\n",
              "      <td>f</td>\n",
              "      <td>NaN</td>\n",
              "      <td>d</td>\n",
              "      <td>u</td>\n",
              "    </tr>\n",
              "    <tr>\n",
              "      <th>40005</th>\n",
              "      <td>p</td>\n",
              "      <td>2.92</td>\n",
              "      <td>c</td>\n",
              "      <td>NaN</td>\n",
              "      <td>w</td>\n",
              "      <td>f</td>\n",
              "      <td>a</td>\n",
              "      <td>c</td>\n",
              "      <td>w</td>\n",
              "      <td>3.66</td>\n",
              "      <td>...</td>\n",
              "      <td>NaN</td>\n",
              "      <td>i</td>\n",
              "      <td>u</td>\n",
              "      <td>NaN</td>\n",
              "      <td>NaN</td>\n",
              "      <td>f</td>\n",
              "      <td>f</td>\n",
              "      <td>NaN</td>\n",
              "      <td>p</td>\n",
              "      <td>a</td>\n",
              "    </tr>\n",
              "    <tr>\n",
              "      <th>25191</th>\n",
              "      <td>e</td>\n",
              "      <td>15.83</td>\n",
              "      <td>x</td>\n",
              "      <td>t</td>\n",
              "      <td>k</td>\n",
              "      <td>f</td>\n",
              "      <td>a</td>\n",
              "      <td>d</td>\n",
              "      <td>k</td>\n",
              "      <td>7.29</td>\n",
              "      <td>...</td>\n",
              "      <td>NaN</td>\n",
              "      <td>NaN</td>\n",
              "      <td>w</td>\n",
              "      <td>NaN</td>\n",
              "      <td>NaN</td>\n",
              "      <td>f</td>\n",
              "      <td>f</td>\n",
              "      <td>w</td>\n",
              "      <td>d</td>\n",
              "      <td>a</td>\n",
              "    </tr>\n",
              "    <tr>\n",
              "      <th>48775</th>\n",
              "      <td>e</td>\n",
              "      <td>11.76</td>\n",
              "      <td>x</td>\n",
              "      <td>h</td>\n",
              "      <td>n</td>\n",
              "      <td>t</td>\n",
              "      <td>p</td>\n",
              "      <td>NaN</td>\n",
              "      <td>y</td>\n",
              "      <td>6.90</td>\n",
              "      <td>...</td>\n",
              "      <td>NaN</td>\n",
              "      <td>NaN</td>\n",
              "      <td>n</td>\n",
              "      <td>NaN</td>\n",
              "      <td>NaN</td>\n",
              "      <td>f</td>\n",
              "      <td>f</td>\n",
              "      <td>NaN</td>\n",
              "      <td>d</td>\n",
              "      <td>u</td>\n",
              "    </tr>\n",
              "    <tr>\n",
              "      <th>56256</th>\n",
              "      <td>p</td>\n",
              "      <td>7.43</td>\n",
              "      <td>o</td>\n",
              "      <td>t</td>\n",
              "      <td>r</td>\n",
              "      <td>f</td>\n",
              "      <td>NaN</td>\n",
              "      <td>c</td>\n",
              "      <td>y</td>\n",
              "      <td>1.58</td>\n",
              "      <td>...</td>\n",
              "      <td>NaN</td>\n",
              "      <td>NaN</td>\n",
              "      <td>y</td>\n",
              "      <td>NaN</td>\n",
              "      <td>NaN</td>\n",
              "      <td>f</td>\n",
              "      <td>f</td>\n",
              "      <td>NaN</td>\n",
              "      <td>d</td>\n",
              "      <td>w</td>\n",
              "    </tr>\n",
              "    <tr>\n",
              "      <th>12000</th>\n",
              "      <td>e</td>\n",
              "      <td>0.81</td>\n",
              "      <td>x</td>\n",
              "      <td>g</td>\n",
              "      <td>e</td>\n",
              "      <td>t</td>\n",
              "      <td>a</td>\n",
              "      <td>NaN</td>\n",
              "      <td>p</td>\n",
              "      <td>4.92</td>\n",
              "      <td>...</td>\n",
              "      <td>NaN</td>\n",
              "      <td>NaN</td>\n",
              "      <td>n</td>\n",
              "      <td>NaN</td>\n",
              "      <td>NaN</td>\n",
              "      <td>f</td>\n",
              "      <td>f</td>\n",
              "      <td>NaN</td>\n",
              "      <td>d</td>\n",
              "      <td>a</td>\n",
              "    </tr>\n",
              "    <tr>\n",
              "      <th>50842</th>\n",
              "      <td>p</td>\n",
              "      <td>7.38</td>\n",
              "      <td>x</td>\n",
              "      <td>NaN</td>\n",
              "      <td>n</td>\n",
              "      <td>f</td>\n",
              "      <td>p</td>\n",
              "      <td>NaN</td>\n",
              "      <td>w</td>\n",
              "      <td>11.48</td>\n",
              "      <td>...</td>\n",
              "      <td>c</td>\n",
              "      <td>NaN</td>\n",
              "      <td>n</td>\n",
              "      <td>NaN</td>\n",
              "      <td>NaN</td>\n",
              "      <td>f</td>\n",
              "      <td>f</td>\n",
              "      <td>p</td>\n",
              "      <td>d</td>\n",
              "      <td>a</td>\n",
              "    </tr>\n",
              "    <tr>\n",
              "      <th>28925</th>\n",
              "      <td>p</td>\n",
              "      <td>7.52</td>\n",
              "      <td>f</td>\n",
              "      <td>d</td>\n",
              "      <td>e</td>\n",
              "      <td>t</td>\n",
              "      <td>d</td>\n",
              "      <td>c</td>\n",
              "      <td>w</td>\n",
              "      <td>6.70</td>\n",
              "      <td>...</td>\n",
              "      <td>NaN</td>\n",
              "      <td>NaN</td>\n",
              "      <td>n</td>\n",
              "      <td>NaN</td>\n",
              "      <td>NaN</td>\n",
              "      <td>f</td>\n",
              "      <td>f</td>\n",
              "      <td>NaN</td>\n",
              "      <td>d</td>\n",
              "      <td>u</td>\n",
              "    </tr>\n",
              "    <tr>\n",
              "      <th>46659</th>\n",
              "      <td>e</td>\n",
              "      <td>3.77</td>\n",
              "      <td>f</td>\n",
              "      <td>h</td>\n",
              "      <td>n</td>\n",
              "      <td>f</td>\n",
              "      <td>NaN</td>\n",
              "      <td>c</td>\n",
              "      <td>k</td>\n",
              "      <td>5.69</td>\n",
              "      <td>...</td>\n",
              "      <td>NaN</td>\n",
              "      <td>s</td>\n",
              "      <td>w</td>\n",
              "      <td>NaN</td>\n",
              "      <td>w</td>\n",
              "      <td>f</td>\n",
              "      <td>f</td>\n",
              "      <td>k</td>\n",
              "      <td>d</td>\n",
              "      <td>u</td>\n",
              "    </tr>\n",
              "  </tbody>\n",
              "</table>\n",
              "<p>10 rows × 21 columns</p>\n",
              "</div>\n",
              "      <button class=\"colab-df-convert\" onclick=\"convertToInteractive('df-88503b49-4256-4443-ba7d-89501a0c3c60')\"\n",
              "              title=\"Convert this dataframe to an interactive table.\"\n",
              "              style=\"display:none;\">\n",
              "        \n",
              "  <svg xmlns=\"http://www.w3.org/2000/svg\" height=\"24px\"viewBox=\"0 0 24 24\"\n",
              "       width=\"24px\">\n",
              "    <path d=\"M0 0h24v24H0V0z\" fill=\"none\"/>\n",
              "    <path d=\"M18.56 5.44l.94 2.06.94-2.06 2.06-.94-2.06-.94-.94-2.06-.94 2.06-2.06.94zm-11 1L8.5 8.5l.94-2.06 2.06-.94-2.06-.94L8.5 2.5l-.94 2.06-2.06.94zm10 10l.94 2.06.94-2.06 2.06-.94-2.06-.94-.94-2.06-.94 2.06-2.06.94z\"/><path d=\"M17.41 7.96l-1.37-1.37c-.4-.4-.92-.59-1.43-.59-.52 0-1.04.2-1.43.59L10.3 9.45l-7.72 7.72c-.78.78-.78 2.05 0 2.83L4 21.41c.39.39.9.59 1.41.59.51 0 1.02-.2 1.41-.59l7.78-7.78 2.81-2.81c.8-.78.8-2.07 0-2.86zM5.41 20L4 18.59l7.72-7.72 1.47 1.35L5.41 20z\"/>\n",
              "  </svg>\n",
              "      </button>\n",
              "      \n",
              "  <style>\n",
              "    .colab-df-container {\n",
              "      display:flex;\n",
              "      flex-wrap:wrap;\n",
              "      gap: 12px;\n",
              "    }\n",
              "\n",
              "    .colab-df-convert {\n",
              "      background-color: #E8F0FE;\n",
              "      border: none;\n",
              "      border-radius: 50%;\n",
              "      cursor: pointer;\n",
              "      display: none;\n",
              "      fill: #1967D2;\n",
              "      height: 32px;\n",
              "      padding: 0 0 0 0;\n",
              "      width: 32px;\n",
              "    }\n",
              "\n",
              "    .colab-df-convert:hover {\n",
              "      background-color: #E2EBFA;\n",
              "      box-shadow: 0px 1px 2px rgba(60, 64, 67, 0.3), 0px 1px 3px 1px rgba(60, 64, 67, 0.15);\n",
              "      fill: #174EA6;\n",
              "    }\n",
              "\n",
              "    [theme=dark] .colab-df-convert {\n",
              "      background-color: #3B4455;\n",
              "      fill: #D2E3FC;\n",
              "    }\n",
              "\n",
              "    [theme=dark] .colab-df-convert:hover {\n",
              "      background-color: #434B5C;\n",
              "      box-shadow: 0px 1px 3px 1px rgba(0, 0, 0, 0.15);\n",
              "      filter: drop-shadow(0px 1px 2px rgba(0, 0, 0, 0.3));\n",
              "      fill: #FFFFFF;\n",
              "    }\n",
              "  </style>\n",
              "\n",
              "      <script>\n",
              "        const buttonEl =\n",
              "          document.querySelector('#df-88503b49-4256-4443-ba7d-89501a0c3c60 button.colab-df-convert');\n",
              "        buttonEl.style.display =\n",
              "          google.colab.kernel.accessAllowed ? 'block' : 'none';\n",
              "\n",
              "        async function convertToInteractive(key) {\n",
              "          const element = document.querySelector('#df-88503b49-4256-4443-ba7d-89501a0c3c60');\n",
              "          const dataTable =\n",
              "            await google.colab.kernel.invokeFunction('convertToInteractive',\n",
              "                                                     [key], {});\n",
              "          if (!dataTable) return;\n",
              "\n",
              "          const docLinkHtml = 'Like what you see? Visit the ' +\n",
              "            '<a target=\"_blank\" href=https://colab.research.google.com/notebooks/data_table.ipynb>data table notebook</a>'\n",
              "            + ' to learn more about interactive tables.';\n",
              "          element.innerHTML = '';\n",
              "          dataTable['output_type'] = 'display_data';\n",
              "          await google.colab.output.renderOutput(dataTable, element);\n",
              "          const docLink = document.createElement('div');\n",
              "          docLink.innerHTML = docLinkHtml;\n",
              "          element.appendChild(docLink);\n",
              "        }\n",
              "      </script>\n",
              "    </div>\n",
              "  </div>\n",
              "  "
            ],
            "text/plain": [
              "      class  cap-diameter cap-shape cap-surface cap-color  \\\n",
              "12448     e          1.30         x           t         y   \n",
              "53678     p         19.45         s           s         n   \n",
              "40005     p          2.92         c         NaN         w   \n",
              "25191     e         15.83         x           t         k   \n",
              "48775     e         11.76         x           h         n   \n",
              "56256     p          7.43         o           t         r   \n",
              "12000     e          0.81         x           g         e   \n",
              "50842     p          7.38         x         NaN         n   \n",
              "28925     p          7.52         f           d         e   \n",
              "46659     e          3.77         f           h         n   \n",
              "\n",
              "      does-bruise-or-bleed gill-attachment gill-spacing gill-color  \\\n",
              "12448                    f               d          NaN          w   \n",
              "53678                    f               d            c          y   \n",
              "40005                    f               a            c          w   \n",
              "25191                    f               a            d          k   \n",
              "48775                    t               p          NaN          y   \n",
              "56256                    f             NaN            c          y   \n",
              "12000                    t               a          NaN          p   \n",
              "50842                    f               p          NaN          w   \n",
              "28925                    t               d            c          w   \n",
              "46659                    f             NaN            c          k   \n",
              "\n",
              "       stem-height  ...  stem-root stem-surface stem-color veil-type  \\\n",
              "12448         5.65  ...        NaN            t          y       NaN   \n",
              "53678         7.73  ...        NaN            k          n       NaN   \n",
              "40005         3.66  ...        NaN            i          u       NaN   \n",
              "25191         7.29  ...        NaN          NaN          w       NaN   \n",
              "48775         6.90  ...        NaN          NaN          n       NaN   \n",
              "56256         1.58  ...        NaN          NaN          y       NaN   \n",
              "12000         4.92  ...        NaN          NaN          n       NaN   \n",
              "50842        11.48  ...          c          NaN          n       NaN   \n",
              "28925         6.70  ...        NaN          NaN          n       NaN   \n",
              "46659         5.69  ...        NaN            s          w       NaN   \n",
              "\n",
              "      veil-color has-ring ring-type spore-print-color habitat season  \n",
              "12448        NaN        f         f               NaN       g      a  \n",
              "53678        NaN        f         f               NaN       d      u  \n",
              "40005        NaN        f         f               NaN       p      a  \n",
              "25191        NaN        f         f                 w       d      a  \n",
              "48775        NaN        f         f               NaN       d      u  \n",
              "56256        NaN        f         f               NaN       d      w  \n",
              "12000        NaN        f         f               NaN       d      a  \n",
              "50842        NaN        f         f                 p       d      a  \n",
              "28925        NaN        f         f               NaN       d      u  \n",
              "46659          w        f         f                 k       d      u  \n",
              "\n",
              "[10 rows x 21 columns]"
            ]
          },
          "execution_count": 5,
          "metadata": {},
          "output_type": "execute_result"
        }
      ],
      "source": [
        "# Load Data\n",
        "df_origin = pd.read_csv('secondary_data.csv', delimiter= ';')\n",
        "df = df_origin.copy()\n",
        "df.sample(10)"
      ],
      "id": "90565e19"
    },
    {
      "cell_type": "code",
      "execution_count": null,
      "metadata": {
        "colab": {
          "base_uri": "https://localhost:8080/"
        },
        "id": "265c9b20",
        "outputId": "fbc39c29-5216-497e-fe4b-dbf148dd9f92"
      },
      "outputs": [
        {
          "name": "stdout",
          "output_type": "stream",
          "text": [
            "Number of columns generated from dummy variables = 102 Columns\n"
          ]
        }
      ],
      "source": [
        "# Create dummy variable (since categorical variables)\n",
        "# Splite the featuers and target in two variables.\n",
        "X = df.drop('class', axis=1)\n",
        "y = df['class']\n",
        "\n",
        "# For the sake of visualization, return it by hot-encoding.\n",
        "y = y.map({'p': 'Posionous', 'e': 'Edible'})\n",
        "\n",
        "# Get dummy variables for each column in X.\n",
        "X_dummy = pd.get_dummies(X, drop_first=True)\n",
        "X_dummy.sample(5)\n",
        "\n",
        "print('Number of columns generated from dummy variables =', len(X_dummy.columns.values),'Columns')"
      ],
      "id": "265c9b20"
    },
    {
      "cell_type": "code",
      "execution_count": null,
      "metadata": {
        "colab": {
          "base_uri": "https://localhost:8080/"
        },
        "id": "b06ceff7",
        "outputId": "a58a7ef2-dd3f-4593-9273-190dc61c3801"
      },
      "outputs": [
        {
          "data": {
            "text/plain": [
              "array([[ 1.61946181,  3.07670468,  0.492293  , ..., -0.21619812,\n",
              "        -0.77451888,  3.25494177],\n",
              "       [ 1.87398231,  3.385311  ,  0.60189981, ..., -0.21619812,\n",
              "         1.29112412, -0.30722516],\n",
              "       [ 1.39343241,  3.328931  ,  0.55706066, ..., -0.21619812,\n",
              "        -0.77451888,  3.25494177],\n",
              "       ...,\n",
              "       [-1.03780819, -0.80758069, -0.57587517, ..., -0.21619812,\n",
              "         1.29112412, -0.30722516],\n",
              "       [-1.04350641, -0.89660175, -0.66854275, ..., -0.21619812,\n",
              "         1.29112412, -0.30722516],\n",
              "       [-1.05680226, -0.98859017, -0.66754632, ..., -0.21619812,\n",
              "         1.29112412, -0.30722516]])"
            ]
          },
          "execution_count": 7,
          "metadata": {},
          "output_type": "execute_result"
        }
      ],
      "source": [
        "# dimensional reduction -- pca\n",
        "# step1: standardize data\n",
        "from sklearn.preprocessing import StandardScaler\n",
        "X_std = StandardScaler().fit_transform(X_dummy)\n",
        "X_std"
      ],
      "id": "b06ceff7"
    },
    {
      "cell_type": "code",
      "execution_count": null,
      "metadata": {
        "colab": {
          "base_uri": "https://localhost:8080/"
        },
        "id": "f5020f2a",
        "outputId": "0e74dd78-6a5a-4e99-9f8e-623d676a3ab8"
      },
      "outputs": [
        {
          "name": "stdout",
          "output_type": "stream",
          "text": [
            "Original Number of features = 102 columns\n",
            "Reduced Number of features = 5 columns\n"
          ]
        }
      ],
      "source": [
        "# step2: PCA\n",
        "from sklearn.decomposition import PCA\n",
        "pca = PCA(n_components=5)\n",
        "X_pca = pca.fit_transform(X_std)\n",
        "\n",
        "print('Original Number of features =',  X_dummy.shape[1] ,'columns')\n",
        "print('Reduced Number of features =', X_pca.shape[1], 'columns')"
      ],
      "id": "f5020f2a"
    },
    {
      "cell_type": "code",
      "execution_count": null,
      "metadata": {
        "colab": {
          "base_uri": "https://localhost:8080/"
        },
        "id": "82f2e2ab",
        "outputId": "e185b7e2-bf60-4506-dec1-38d14b70b4ad"
      },
      "outputs": [
        {
          "data": {
            "text/plain": [
              "17.6"
            ]
          },
          "execution_count": 9,
          "metadata": {},
          "output_type": "execute_result"
        }
      ],
      "source": [
        "round(sum(list(pca.explained_variance_ratio_))*100, 2) # variance explain for pca, it is pretty low"
      ],
      "id": "82f2e2ab"
    },
    {
      "cell_type": "code",
      "execution_count": null,
      "metadata": {
        "colab": {
          "base_uri": "https://localhost:8080/"
        },
        "id": "40de2846",
        "outputId": "80108fb3-60ff-45dc-ba20-8c33caf95363"
      },
      "outputs": [
        {
          "name": "stdout",
          "output_type": "stream",
          "text": [
            "Original number of features: 102\n",
            "Reduced number of features: 73\n"
          ]
        }
      ],
      "source": [
        "# pca result is not good, try to calculate how much variable needed to capture 93%\n",
        "pca = PCA(n_components=0.93, whiten=True)\n",
        "\n",
        "# Conduct PCA\n",
        "X_pca = pca.fit_transform(X_std)\n",
        "# Show the result\n",
        "print('Original number of features:', X_dummy.shape[1])\n",
        "print('Reduced number of features:', X_pca.shape[1])"
      ],
      "id": "40de2846"
    },
    {
      "cell_type": "code",
      "execution_count": null,
      "metadata": {
        "colab": {
          "base_uri": "https://localhost:8080/"
        },
        "id": "25668355",
        "outputId": "cab62c3e-1655-4659-be71-e44838f4cc87"
      },
      "outputs": [
        {
          "name": "stderr",
          "output_type": "stream",
          "text": [
            "/usr/local/lib/python3.7/dist-packages/sklearn/manifold/_t_sne.py:783: FutureWarning: The default initialization in TSNE will change from 'random' to 'pca' in 1.2.\n",
            "  FutureWarning,\n",
            "/usr/local/lib/python3.7/dist-packages/sklearn/manifold/_t_sne.py:793: FutureWarning: The default learning rate in TSNE will change from 200.0 to 'auto' in 1.2.\n",
            "  FutureWarning,\n"
          ]
        }
      ],
      "source": [
        "# we need 73 variable to capture 93%, which is a lot. We might try other dimensional reduction method\n",
        "# use t-SNE,\n",
        "from sklearn.manifold import TSNE\n",
        "tsne = TSNE(n_components=2, random_state=0, perplexity=50, n_iter=5000)\n",
        "X_tsne = tsne.fit_transform(X_std)"
      ],
      "id": "25668355"
    },
    {
      "cell_type": "code",
      "execution_count": null,
      "metadata": {
        "colab": {
          "base_uri": "https://localhost:8080/",
          "height": 512
        },
        "id": "0e4e9572",
        "outputId": "ca3e6f14-fc31-4917-a4fc-9ca12ecbfb57"
      },
      "outputs": [
        {
          "name": "stderr",
          "output_type": "stream",
          "text": [
            "/usr/local/lib/python3.7/dist-packages/seaborn/axisgrid.py:337: UserWarning: The `size` parameter has been renamed to `height`; please update your code.\n",
            "  warnings.warn(msg, UserWarning)\n"
          ]
        },
        {
          "data": {
            "image/png": "[encoded data removed]",
            "text/plain": [
              "<Figure size 517.75x432 with 1 Axes>"
            ]
          },
          "metadata": {},
          "output_type": "display_data"
        }
      ],
      "source": [
        "# Create a dataframe to plot\n",
        "tsne_data = np.vstack((X_tsne.T, y)).T\n",
        "df_tsne = pd.DataFrame(data=tsne_data, columns=['Dim_1', 'Dim_2', 'Class'])\n",
        "\n",
        "# Plot the dataframe\n",
        "sns.FacetGrid(data=df_tsne, hue='Class', size=6)\\\n",
        "   .map(plt.scatter, 'Dim_1', 'Dim_2')\\\n",
        "   .add_legend()\n",
        "plt.title('With Perplexity = 70, n_iter = 1000');\n"
      ],
      "id": "0e4e9572"
    },
    {
      "cell_type": "code",
      "execution_count": null,
      "metadata": {
        "colab": {
          "base_uri": "https://localhost:8080/"
        },
        "id": "36a83a8b",
        "outputId": "2e70a888-1013-4b9b-d203-3bb60440ea03"
      },
      "outputs": [
        {
          "data": {
            "text/plain": [
              "1    33888\n",
              "0    27181\n",
              "Name: class, dtype: int64"
            ]
          },
          "execution_count": 13,
          "metadata": {},
          "output_type": "execute_result"
        }
      ],
      "source": [
        "# Train the model\n",
        "# label encode the class column\n",
        "y = y.map({'Posionous':1, 'Edible':0})\n",
        "y.value_counts()\n"
      ],
      "id": "36a83a8b"
    },
    {
      "cell_type": "code",
      "execution_count": null,
      "metadata": {
        "id": "44b8e7fe"
      },
      "outputs": [],
      "source": [
        "# methods import\n",
        "from sklearn import svm, tree, linear_model, neighbors, naive_bayes, ensemble\n",
        "MLA = [\n",
        "    # Ensemble Methods\n",
        "    ensemble.RandomForestClassifier(),\n",
        "\n",
        "\n",
        "    # GLM\n",
        "    linear_model.LogisticRegressionCV(),\n",
        "\n",
        "    # Naives Bayes\n",
        "    naive_bayes.BernoulliNB(),\n",
        "\n",
        "    # Nearest Neighbor\n",
        "    neighbors.KNeighborsClassifier(),\n",
        "\n",
        "    # SVM\n",
        "    svm.SVC(probability=True),\n",
        "\n",
        "    # Trees\n",
        "    tree.DecisionTreeClassifier()\n",
        "]\n"
      ],
      "id": "44b8e7fe"
    },
    {
      "cell_type": "code",
      "execution_count": null,
      "metadata": {
        "id": "ef4ce93b"
      },
      "outputs": [],
      "source": [
        "# data split\n",
        "# Splite dataset in cross-validation with this splitter class:\n",
        "# NOTE: this is an alternative to train_test_split\n",
        "from sklearn.model_selection import ShuffleSplit, cross_validate\n",
        "\n",
        "# Run the model 10x with 60/30 split intentionally leaving out 10% of the data\n",
        "cv_split = ShuffleSplit(n_splits=10, test_size=.3, train_size=.6, random_state=0)\n",
        "\n",
        "# Create table to compare MLA metrices\n",
        "MLA_columns = ['MLA Name', 'MLA Parameters','MLA Test Accuracy Mean',\n",
        "               'MLA Test Accuracy 3*STD', 'MLA Time']\n",
        "MLA_compare = pd.DataFrame(columns=MLA_columns)\n",
        "\n",
        "# Create table to compare MLA Predictions\n",
        "MLA_predict = {}"
      ],
      "id": "ef4ce93b"
    },
    {
      "cell_type": "code",
      "execution_count": null,
      "metadata": {
        "colab": {
          "background_save": true,
          "base_uri": "https://localhost:8080/"
        },
        "id": "9c9305f8",
        "outputId": "5f422ed3-cd8a-444d-92b3-d2bc0de0f3d2"
      },
      "outputs": [
        {
          "name": "stderr",
          "output_type": "stream",
          "text": [
            "/usr/local/lib/python3.7/dist-packages/sklearn/linear_model/_logistic.py:818: ConvergenceWarning: lbfgs failed to converge (status=1):\n",
            "STOP: TOTAL NO. of ITERATIONS REACHED LIMIT.\n",
            "\n",
            "Increase the number of iterations (max_iter) or scale the data as shown in:\n",
            "    https://scikit-learn.org/stable/modules/preprocessing.html\n",
            "Please also refer to the documentation for alternative solver options:\n",
            "    https://scikit-learn.org/stable/modules/linear_model.html#logistic-regression\n",
            "  extra_warning_msg=_LOGISTIC_SOLVER_CONVERGENCE_MSG,\n"
          ]
        }
      ],
      "source": [
        "# build\n",
        "for row_idx, alg in enumerate(MLA):\n",
        "    # Set name and parameters\n",
        "    MLA_name = alg.__class__.__name__\n",
        "    MLA_compare.loc[row_idx, 'MLA Name'] = MLA_name\n",
        "    MLA_compare.loc[row_idx, 'MLA Parameters'] = str(alg.get_params())\n",
        "\n",
        "    # Score model with cross validation\n",
        "    cv_results = cross_validate(alg, X_pca, y.astype('int'), cv=cv_split)\n",
        "    MLA_compare.loc[row_idx, 'MLA Time'] = cv_results['fit_time'].mean()\n",
        "#     MLA_compare.loc[row_idx, 'MLA Train Accuracy Mean'] = cv_results['train_score'].mean()\n",
        "    MLA_compare.loc[row_idx, 'MLA Test Accuracy Mean'] = cv_results['test_score'].mean()\n",
        "\n",
        "    # If this is a non-bias random sample, then +/-3 standard deviations from the mean\n",
        "    # should statistically capture 99.7% of the subsets.\n",
        "    MLA_compare.loc[row_idx, 'MLA Test Accuracy 3*STD'] = cv_results['test_score'].std()*3\n",
        "\n",
        "    # Save MLA predictions\n",
        "    alg.fit(X_pca, y.astype('int'))\n",
        "    MLA_predict[MLA_name] = alg.predict(X_pca)\n"
      ],
      "id": "9c9305f8"
    },
    {
      "cell_type": "code",
      "execution_count": null,
      "metadata": {
        "id": "aa1cfde1",
        "outputId": "324db6a5-2b16-470a-af1e-8b216aa51abb",
        "colab": {
          "base_uri": "https://localhost:8080/",
          "height": 225
        }
      },
      "outputs": [
        {
          "output_type": "error",
          "ename": "NameError",
          "evalue": "ignored",
          "traceback": [
            "\u001b[0;31m---------------------------------------------------------------------------\u001b[0m",
            "\u001b[0;31mNameError\u001b[0m                                 Traceback (most recent call last)",
            "\u001b[0;32m<ipython-input-1-b687f498af5a>\u001b[0m in \u001b[0;36m<module>\u001b[0;34m()\u001b[0m\n\u001b[1;32m      1\u001b[0m \u001b[0;31m# Print and Sort table.\u001b[0m\u001b[0;34m\u001b[0m\u001b[0;34m\u001b[0m\u001b[0;34m\u001b[0m\u001b[0m\n\u001b[0;32m----> 2\u001b[0;31m MLA_compare.sort_values(by=['MLA Test Accuracy Mean'], ascending=False,\n\u001b[0m\u001b[1;32m      3\u001b[0m                        inplace=True)\n\u001b[1;32m      4\u001b[0m \u001b[0mMLA_compare\u001b[0m\u001b[0;34m\u001b[0m\u001b[0;34m\u001b[0m\u001b[0m\n",
            "\u001b[0;31mNameError\u001b[0m: name 'MLA_compare' is not defined"
          ]
        }
      ],
      "source": [
        "# Print and Sort table.\n",
        "MLA_compare.sort_values(by=['MLA Test Accuracy Mean'], ascending=False,\n",
        "                       inplace=True)\n",
        "MLA_compare"
      ],
      "id": "aa1cfde1"
    },
    {
      "cell_type": "code",
      "execution_count": null,
      "metadata": {
        "id": "su2hy-6Oh--r"
      },
      "outputs": [],
      "source": [
        "plt.figure(figsize=(16, 8))\n",
        "base_color = sns.color_palette()[1]\n",
        "sns.barplot(x='MLA Test Accuracy Mean', y='MLA Name', data=MLA_compare, color=base_color)\n",
        "plt.title('Machine Learning Algorithm Accuracy Score')\n",
        "plt.xlabel('Accuracy Score (%)')\n",
        "plt.ylabel('Algorithm Name')\n",
        "mlt.rc('ytick', labelsize=14)"
      ],
      "id": "su2hy-6Oh--r"
    }
  ],
  "metadata": {
    "colab": {
      "provenance": []
    },
    "kernelspec": {
      "display_name": "Python 3 (ipykernel)",
      "language": "python",
      "name": "python3"
    },
    "language_info": {
      "codemirror_mode": {
        "name": "ipython",
        "version": 3
      },
      "file_extension": ".py",
      "mimetype": "text/x-python",
      "name": "python",
      "nbconvert_exporter": "python",
      "pygments_lexer": "ipython3",
      "version": "3.9.7"
    }
  },
  "nbformat": 4,
  "nbformat_minor": 5
}